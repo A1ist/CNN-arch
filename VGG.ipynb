{
 "cells": [
  {
   "cell_type": "code",
   "execution_count": 3,
   "metadata": {},
   "outputs": [],
   "source": [
    "import torch\n",
    "import torch.nn as nn\n",
    "import torch.nn.functional as F"
   ]
  },
  {
   "cell_type": "markdown",
   "metadata": {},
   "source": [
    "![VGG](./VGG.png)"
   ]
  },
  {
   "cell_type": "code",
   "execution_count": 4,
   "metadata": {},
   "outputs": [
    {
     "name": "stdout",
     "output_type": "stream",
     "text": [
      "torch.Size([1, 3, 224, 224])\n"
     ]
    }
   ],
   "source": [
    "input_image=torch.rand(1,3,224,224)\n",
    "print(input_image.shape)"
   ]
  },
  {
   "cell_type": "code",
   "execution_count": 8,
   "metadata": {},
   "outputs": [],
   "source": [
    "class VGG16(nn.Module):\n",
    "    def __init__(self,num_class):\n",
    "        super(VGG16,self).__init__()\n",
    "        \n",
    "        self.conv1_1=nn.Conv2d(in_channels=3,out_channels=64,kernel_size=3,padding=1)\n",
    "        self.conv1_2=nn.Conv2d(in_channels=64,out_channels=64,kernel_size=3,padding=1)\n",
    "        self.pool1=nn.MaxPool2d(kernel_size=2,stride=2)\n",
    "        \n",
    "        self.conv2_1=nn.Conv2d(in_channels=64,out_channels=128,kernel_size=3,padding=1)\n",
    "        self.conv2_2=nn.Conv2d(in_channels=128,out_channels=128,kernel_size=3,padding=1)\n",
    "        self.pool2=nn.MaxPool2d(kernel_size=2,stride=2)   \n",
    "\n",
    "        self.conv3_1=nn.Conv2d(in_channels=128,out_channels=256,kernel_size=3,padding=1)\n",
    "        self.conv3_2=nn.Conv2d(in_channels=256,out_channels=256,kernel_size=3,padding=1)\n",
    "        self.conv3_3=nn.Conv2d(in_channels=256,out_channels=256,kernel_size=3,padding=1)\n",
    "        self.pool3=nn.MaxPool2d(kernel_size=2,stride=2)  \n",
    "        \n",
    "        self.conv4_1=nn.Conv2d(in_channels=256,out_channels=512,kernel_size=3,padding=1)\n",
    "        self.conv4_2=nn.Conv2d(in_channels=512,out_channels=512,kernel_size=3,padding=1)\n",
    "        self.conv4_3=nn.Conv2d(in_channels=512,out_channels=512,kernel_size=3,padding=1)\n",
    "        self.pool4=nn.MaxPool2d(kernel_size=2,stride=2)  \n",
    "        \n",
    "        self.conv5_1=nn.Conv2d(in_channels=512,out_channels=512,kernel_size=3,padding=1)\n",
    "        self.conv5_2=nn.Conv2d(in_channels=512,out_channels=512,kernel_size=3,padding=1)\n",
    "        self.conv5_3=nn.Conv2d(in_channels=512,out_channels=512,kernel_size=3,padding=1)\n",
    "        self.pool5=nn.MaxPool2d(kernel_size=2,stride=2) \n",
    "        \n",
    "        self.fc1=nn.Linear(25088,4096)\n",
    "        self.fc2=nn.Linear(4096,4096)\n",
    "        self.fc3=nn.Linear(4096,num_class)\n",
    "        \n",
    "    def forward(self,x):\n",
    "        \n",
    "        x=self.conv1_1(x)\n",
    "        x=self.conv1_2(x)\n",
    "        x=self.pool1(x)\n",
    "        \n",
    "        x=self.conv2_1(x)\n",
    "        x=self.conv2_2(x)\n",
    "        x=self.pool2(x)\n",
    "        \n",
    "        x=self.conv3_1(x)\n",
    "        x=self.conv3_2(x)\n",
    "        x=self.conv3_3(x)\n",
    "        x=self.pool3(x)\n",
    "        \n",
    "        x=self.conv4_1(x)\n",
    "        x=self.conv4_2(x)\n",
    "        x=self.conv4_3(x)\n",
    "        x=self.pool3(x)\n",
    "        \n",
    "        x=self.conv5_1(x)\n",
    "        x=self.conv5_2(x)\n",
    "        x=self.conv5_3(x)\n",
    "        x=self.pool3(x)\n",
    "        \n",
    "        x= x.view(x.size(0),-1)\n",
    "        \n",
    "        x=self.fc1(x)\n",
    "        x=self.fc2(x)\n",
    "        x=self.fc3(x)\n",
    "        \n",
    "        return x"
   ]
  },
  {
   "cell_type": "code",
   "execution_count": 9,
   "metadata": {},
   "outputs": [
    {
     "name": "stdout",
     "output_type": "stream",
     "text": [
      "torch.Size([1, 1000])\n"
     ]
    }
   ],
   "source": [
    "net=VGG16(1000)\n",
    "\n",
    "out=net(input_image)\n",
    "print(out.shape)"
   ]
  },
  {
   "cell_type": "code",
   "execution_count": 10,
   "metadata": {},
   "outputs": [
    {
     "name": "stderr",
     "output_type": "stream",
     "text": [
      "F:\\anaconda3\\lib\\site-packages\\torch\\serialization.py:256: UserWarning: Couldn't retrieve source code for container of type VGG16. It won't be checked for correctness upon loading.\n",
      "  \"type \" + obj.__name__ + \". It won't be checked \"\n"
     ]
    }
   ],
   "source": [
    "torch.save(net,'VGG16.pth')"
   ]
  },
  {
   "cell_type": "markdown",
   "metadata": {},
   "source": [
    "![](VGG16.PNG)"
   ]
  },
  {
   "cell_type": "code",
   "execution_count": null,
   "metadata": {},
   "outputs": [],
   "source": []
  }
 ],
 "metadata": {
  "kernelspec": {
   "display_name": "Python 3",
   "language": "python",
   "name": "python3"
  },
  "language_info": {
   "codemirror_mode": {
    "name": "ipython",
    "version": 3
   },
   "file_extension": ".py",
   "mimetype": "text/x-python",
   "name": "python",
   "nbconvert_exporter": "python",
   "pygments_lexer": "ipython3",
   "version": "3.7.6"
  }
 },
 "nbformat": 4,
 "nbformat_minor": 4
}
