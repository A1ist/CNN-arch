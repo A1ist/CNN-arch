{
 "cells": [
  {
   "cell_type": "code",
   "execution_count": 1,
   "metadata": {},
   "outputs": [],
   "source": [
    "import torch \n",
    "import torch.nn as nn"
   ]
  },
  {
   "cell_type": "code",
   "execution_count": 2,
   "metadata": {},
   "outputs": [
    {
     "name": "stdout",
     "output_type": "stream",
     "text": [
      "torch.Size([1, 3, 224, 224])\n"
     ]
    }
   ],
   "source": [
    "input_image=torch.rand(1,3,224,224)\n",
    "print(input_image.shape)"
   ]
  },
  {
   "cell_type": "markdown",
   "metadata": {},
   "source": [
    "![](Inception.png)\n",
    "![](module.png)"
   ]
  },
  {
   "cell_type": "code",
   "execution_count": 62,
   "metadata": {},
   "outputs": [],
   "source": [
    "class Inception_block(nn.Module):\n",
    "    def __init__(self,in_channels,filters):\n",
    "        super(Inception_block,self).__init__()\n",
    "\n",
    "        self.branch_1x1=nn.Conv2d(in_channels=in_channels,out_channels=filters[0],kernel_size=1)\n",
    "\n",
    "        self.branch_3x3_reduce=nn.Conv2d(in_channels=in_channels,out_channels=filters[1],kernel_size=1)\n",
    "        self.branch_3x3=nn.Conv2d(in_channels=filters[1],out_channels=filters[2],kernel_size=3,padding=1)\n",
    "\n",
    "        self.branch_5x5_reduce=nn.Conv2d(in_channels=in_channels,out_channels=filters[3],kernel_size=1)\n",
    "        self.branch_5x5=nn.Conv2d(in_channels=filters[3],out_channels=filters[4],kernel_size=5,padding=2)  \n",
    "\n",
    "        self.branch_maxpool=nn.MaxPool2d(kernel_size=3,stride=1,padding=1)\n",
    "        self.branch_maxpool_reduce=nn.Conv2d(in_channels=in_channels,out_channels=filters[5],kernel_size=1)  \n",
    "\n",
    "    def forward(self,x):\n",
    "\n",
    "        b1=self.branch_1x1(x)\n",
    "#         print(b1.shape)\n",
    "        b2=self.branch_3x3_reduce(x)\n",
    "        b2=self.branch_3x3(b2)\n",
    "#         print(b2.shape)\n",
    "        b3=self.branch_5x5_reduce(x)\n",
    "        b3=self.branch_5x5(b3)\n",
    "#         print(b3.shape)\n",
    "        b4=self.branch_maxpool(x)\n",
    "        b4=self.branch_maxpool_reduce(b4)\n",
    "#         print(b4.shape)\n",
    "        out=torch.cat([b1,b2,b3,b4],dim=1)\n",
    "\n",
    "        return out"
   ]
  },
  {
   "cell_type": "code",
   "execution_count": 88,
   "metadata": {},
   "outputs": [],
   "source": [
    "class GoogleNet(nn.Module):\n",
    "    def __init__(self,num_class=1000):\n",
    "        super(GoogleNet,self).__init__()\n",
    "        \n",
    "        self.conv7x7=nn.Conv2d(in_channels=3,out_channels=64,kernel_size=7,stride=2,padding=3)\n",
    "        self.pool1=nn.MaxPool2d(kernel_size=3,stride=2)\n",
    "        \n",
    "        self.conv3x3_reduce=nn.Conv2d(in_channels=64,out_channels=64,kernel_size=1,padding=1)\n",
    "        self.conv3x3=nn.Conv2d(in_channels=64,out_channels=192,kernel_size=3,padding=1)\n",
    "        self.pool2=nn.MaxPool2d(kernel_size=3,stride=2)  \n",
    "        \n",
    "        self.inception_3a=Inception_block(192,[64,96,128,16,32,32])       \n",
    "        self.inception_3b=Inception_block(256,[128,128,192,32,96,64])\n",
    "        self.pool3=nn.MaxPool2d(kernel_size=3,stride=2,padding=1)  \n",
    "        \n",
    "        self.inception_4a=Inception_block(480,[192,96,208,16,48,64])       \n",
    "        self.inception_4b=Inception_block(512,[160,112,224,24,64,64])\n",
    "        self.inception_4c=Inception_block(512,[128,128,256,24,64,64])       \n",
    "        self.inception_4d=Inception_block(512,[112,144,288,32,64,64])\n",
    "        self.inception_4e=Inception_block(528,[256,160,320,32,128,128])       \n",
    "        self.pool4=nn.MaxPool2d(kernel_size=3,stride=2,padding=1)   \n",
    "        \n",
    "        self.inception_5a=Inception_block(832,[256,160,320,32,128,128]) \n",
    "        self.inception_5b=Inception_block(832,[384,192,384,48,128,128])    \n",
    "        self.pool5=nn.AvgPool2d(kernel_size=7,stride=1) \n",
    "        \n",
    "        self.drop=nn.Dropout2d(p=0.4)\n",
    "        \n",
    "        self.fc=nn.Linear(1024,num_class)\n",
    "        \n",
    "    def forward(self,x):\n",
    "        x=self.conv7x7(x)\n",
    "        x=self.pool1(x)\n",
    "        \n",
    "        x=self.conv3x3_reduce(x)\n",
    "        x=self.conv3x3(x)\n",
    "        x=self.pool2(x)\n",
    "        \n",
    "        x=self.inception_3a(x)\n",
    "        x=self.inception_3b(x)\n",
    "        x=self.pool3(x)\n",
    "\n",
    "        x=self.inception_4a(x)\n",
    "        x=self.inception_4b(x)\n",
    "        x=self.inception_4c(x)\n",
    "        x=self.inception_4d(x)\n",
    "        x=self.inception_4e(x)\n",
    "        x=self.pool4(x)\n",
    "        \n",
    "        x=self.inception_5a(x)\n",
    "        x=self.inception_5b(x)\n",
    "        x=self.pool5(x)\n",
    "        \n",
    "        x=self.drop(x)\n",
    "        x=x.view(x.size(0),-1)\n",
    "        x=self.fc(x)\n",
    "#         print(x.shape)\n",
    "        return x"
   ]
  },
  {
   "cell_type": "code",
   "execution_count": 89,
   "metadata": {},
   "outputs": [
    {
     "name": "stdout",
     "output_type": "stream",
     "text": [
      "torch.Size([1, 1000])\n"
     ]
    }
   ],
   "source": [
    "net=GoogleNet(1000)\n",
    "out=net(input_image)\n",
    "print(out.shape)"
   ]
  },
  {
   "cell_type": "code",
   "execution_count": 90,
   "metadata": {},
   "outputs": [
    {
     "name": "stderr",
     "output_type": "stream",
     "text": [
      "F:\\anaconda3\\lib\\site-packages\\torch\\serialization.py:256: UserWarning: Couldn't retrieve source code for container of type GoogleNet. It won't be checked for correctness upon loading.\n",
      "  \"type \" + obj.__name__ + \". It won't be checked \"\n",
      "F:\\anaconda3\\lib\\site-packages\\torch\\serialization.py:256: UserWarning: Couldn't retrieve source code for container of type Inception_block. It won't be checked for correctness upon loading.\n",
      "  \"type \" + obj.__name__ + \". It won't be checked \"\n"
     ]
    }
   ],
   "source": [
    "torch.save(net,'Googlenet.pth')"
   ]
  },
  {
   "cell_type": "markdown",
   "metadata": {},
   "source": [
    "![](Googlenet.png)"
   ]
  },
  {
   "cell_type": "code",
   "execution_count": null,
   "metadata": {},
   "outputs": [],
   "source": []
  }
 ],
 "metadata": {
  "kernelspec": {
   "display_name": "Python 3",
   "language": "python",
   "name": "python3"
  },
  "language_info": {
   "codemirror_mode": {
    "name": "ipython",
    "version": 3
   },
   "file_extension": ".py",
   "mimetype": "text/x-python",
   "name": "python",
   "nbconvert_exporter": "python",
   "pygments_lexer": "ipython3",
   "version": "3.7.6"
  }
 },
 "nbformat": 4,
 "nbformat_minor": 4
}
