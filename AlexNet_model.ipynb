{
 "cells": [
  {
   "cell_type": "code",
   "execution_count": 6,
   "metadata": {},
   "outputs": [],
   "source": [
    "import torch\n",
    "import torch.nn as nn\n",
    "import torch.nn.functional as F"
   ]
  },
  {
   "cell_type": "markdown",
   "metadata": {},
   "source": [
    "# The first convolutional layer filters the 224×224×3 input image with 96 kernels of size 11×11×3 with a stride of 4 pixels (this is the distance between the receptive field centers of neighboring neurons in a kernel map). \n",
    "# The second convolutional layer takes as input the (response-normalized and pooled) output of the first convolutional layer and filters it with 256 kernels of size 5 × 5 × 48.\n",
    "# The third, fourth, and fifth convolutional layers are connected to one another without any intervening pooling or normalization layers.\n",
    "# The third convolutional layer has 384 kernels of size 3 × 3 ×256 connected to the (normalized, pooled) outputs of the second convolutional layer.\n",
    "# The fourth convolutional layer has 384 kernels of size 3 × 3 × 192 ,\n",
    "# and the fifth convolutional layer has 256 kernels of size 3 × 3 × 192.\n",
    "# The fully-connected layers have 4096 neurons each."
   ]
  },
  {
   "cell_type": "code",
   "execution_count": 5,
   "metadata": {},
   "outputs": [
    {
     "name": "stdout",
     "output_type": "stream",
     "text": [
      "torch.Size([1, 3, 224, 224])\n"
     ]
    }
   ],
   "source": [
    "input_image=torch.rand(1,3,224,224)\n",
    "print(input_image.shape)"
   ]
  },
  {
   "cell_type": "code",
   "execution_count": 59,
   "metadata": {},
   "outputs": [],
   "source": [
    "class AlexNet(nn.Module):\n",
    "    \n",
    "    def __init__(self,num_class=1000):\n",
    "        super(AlexNet,self).__init__()\n",
    "        \n",
    "        self.first_conv=nn.Conv2d(3,96,kernel_size=11,stride=4,padding=2)\n",
    "        self.bn1=nn.BatchNorm2d(96)\n",
    "        self.pool1=nn.MaxPool2d(kernel_size=3,stride=2)\n",
    "        \n",
    "        self.second_conv=nn.Conv2d(96,256,kernel_size=5,padding=2)\n",
    "        self.bn2=nn.BatchNorm2d(256)\n",
    "        self.pool2=nn.MaxPool2d(kernel_size=3,stride=2)\n",
    "        \n",
    "        self.third_conv=nn.Conv2d(256,384,kernel_size=3,padding=1)\n",
    "        self.four_conv=nn.Conv2d(384,384,kernel_size=3,padding=1)\n",
    "        self.fifth_conv=nn.Conv2d(384,256,kernel_size=3,padding=1)\n",
    "        \n",
    "        self.bn3=nn.BatchNorm2d(256)\n",
    "        self.pool3=nn.MaxPool2d(kernel_size=3,stride=2)      \n",
    "        \n",
    "        self.fc1=nn.Linear(9216,4096)\n",
    "        self.fc2=nn.Linear(4096,4096)\n",
    "        self.fc3=nn.Linear(4096,num_class)\n",
    "        \n",
    "    def forward(self,x):\n",
    "        \n",
    "        x=self.first_conv(x)\n",
    "        print(\"Layer 1 shape:\",x.shape)\n",
    "        x=F.relu_(x)\n",
    "        x=self.bn1(x)\n",
    "        x=self.pool1(x)\n",
    "        print(\"Layer 1  pool shape:\",x.shape)\n",
    "        x=self.second_conv(x)\n",
    "        print(\"Layer 2 shape:\",x.shape)\n",
    "        x=F.relu_(x)\n",
    "        x=self.bn2(x)\n",
    "        x=self.pool2(x)\n",
    "        print(\"Layer 2  pool shape:\",x.shape)\n",
    "        x=self.third_conv(x)\n",
    "        print(\"Layer 3 shape:\",x.shape)\n",
    "        x=F.relu_(x) \n",
    "        x=self.four_conv(x)\n",
    "        print(\"Layer 4 shape:\",x.shape)\n",
    "        x=F.relu_(x)   \n",
    "        x=self.fifth_conv(x)\n",
    "        x=F.relu_(x)   \n",
    "        print(\"Layer 5 shape:\",x.shape)\n",
    "        x=self.bn3(x)\n",
    "        x=self.pool3(x)\n",
    "        print(\"Layer 5 pool shape:\",x.shape)\n",
    "        x=x.view(x.size(0),-1)\n",
    "        x=self.fc1(x)\n",
    "        x=self.fc2(x)\n",
    "        x=self.fc3(x)\n",
    "        \n",
    "        return x\n",
    "        "
   ]
  },
  {
   "cell_type": "code",
   "execution_count": 60,
   "metadata": {},
   "outputs": [],
   "source": [
    "net=AlexNet(num_class=1000)"
   ]
  },
  {
   "cell_type": "code",
   "execution_count": 61,
   "metadata": {},
   "outputs": [
    {
     "name": "stdout",
     "output_type": "stream",
     "text": [
      "Layer 1 shape: torch.Size([1, 96, 55, 55])\n",
      "Layer 1  pool shape: torch.Size([1, 96, 27, 27])\n",
      "Layer 2 shape: torch.Size([1, 256, 27, 27])\n",
      "Layer 2  pool shape: torch.Size([1, 256, 13, 13])\n",
      "Layer 3 shape: torch.Size([1, 384, 13, 13])\n",
      "Layer 4 shape: torch.Size([1, 384, 13, 13])\n",
      "Layer 5 shape: torch.Size([1, 256, 13, 13])\n",
      "Layer 5 pool shape: torch.Size([1, 256, 6, 6])\n"
     ]
    }
   ],
   "source": [
    "out=net(input_image)"
   ]
  },
  {
   "cell_type": "code",
   "execution_count": 58,
   "metadata": {},
   "outputs": [
    {
     "name": "stdout",
     "output_type": "stream",
     "text": [
      "torch.Size([1, 1000])\n"
     ]
    }
   ],
   "source": [
    "print(out.shape)"
   ]
  },
  {
   "cell_type": "code",
   "execution_count": 62,
   "metadata": {},
   "outputs": [
    {
     "name": "stderr",
     "output_type": "stream",
     "text": [
      "F:\\anaconda3\\lib\\site-packages\\torch\\serialization.py:256: UserWarning: Couldn't retrieve source code for container of type AlexNet. It won't be checked for correctness upon loading.\n",
      "  \"type \" + obj.__name__ + \". It won't be checked \"\n"
     ]
    }
   ],
   "source": [
    "torch.save(net,'Alexnet.pth')"
   ]
  },
  {
   "cell_type": "markdown",
   "metadata": {},
   "source": [
    "![]('./Alexnet.png')"
   ]
  },
  {
   "cell_type": "markdown",
   "metadata": {},
   "source": [
    "[]('./Alexnet.png')"
   ]
  },
  {
   "cell_type": "markdown",
   "metadata": {},
   "source": [
    "![](./Alexnet.png)"
   ]
  },
  {
   "cell_type": "code",
   "execution_count": null,
   "metadata": {},
   "outputs": [],
   "source": []
  }
 ],
 "metadata": {
  "kernelspec": {
   "display_name": "Python 3",
   "language": "python",
   "name": "python3"
  },
  "language_info": {
   "codemirror_mode": {
    "name": "ipython",
    "version": 3
   },
   "file_extension": ".py",
   "mimetype": "text/x-python",
   "name": "python",
   "nbconvert_exporter": "python",
   "pygments_lexer": "ipython3",
   "version": "3.7.6"
  }
 },
 "nbformat": 4,
 "nbformat_minor": 4
}
