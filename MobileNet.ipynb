{
 "cells": [
  {
   "cell_type": "code",
   "execution_count": 1,
   "metadata": {},
   "outputs": [],
   "source": [
    "import torch\n",
    "import torch.nn as nn\n"
   ]
  },
  {
   "cell_type": "code",
   "execution_count": 2,
   "metadata": {},
   "outputs": [],
   "source": [
    "input_image=torch.rand(1,3,224,224)"
   ]
  },
  {
   "cell_type": "markdown",
   "metadata": {},
   "source": [
    "![](MobileNet.png)"
   ]
  },
  {
   "cell_type": "markdown",
   "metadata": {},
   "source": [
    "https://www.cnblogs.com/darkknightzh/p/9410540.html"
   ]
  },
  {
   "cell_type": "code",
   "execution_count": 20,
   "metadata": {},
   "outputs": [],
   "source": [
    "def conv_bn(in_ch,out_ch,s):\n",
    "    return nn.Sequential(nn.Conv2d(in_ch,out_ch,kernel_size=3,stride=s,padding=1,bias=False),\n",
    "                        nn.BatchNorm2d(out_ch),\n",
    "                        nn.ReLU(True))\n",
    "\n",
    "def conv_dw(in_ch,out_ch,s):\n",
    "    return nn.Sequential(nn.Conv2d(in_ch,in_ch,kernel_size=3,stride=s,padding=1,groups=in_ch,bias=False),\n",
    "                        nn.BatchNorm2d(in_ch),\n",
    "                        nn.ReLU(True),\n",
    "                        nn.Conv2d(in_ch,out_ch,kernel_size=1,stride=1,padding=0,bias=False),\n",
    "                        nn.BatchNorm2d(out_ch),\n",
    "                        nn.ReLU(True))"
   ]
  },
  {
   "cell_type": "code",
   "execution_count": 23,
   "metadata": {},
   "outputs": [],
   "source": [
    "class MobileNet(nn.Module):\n",
    "    \n",
    "    def __init__(self,num_class=1000):\n",
    "        super(MobileNet,self).__init__()\n",
    "        \n",
    "        self.feature=nn.Sequential(\n",
    "            conv_bn(3,32,2),\n",
    "            conv_dw(32,64,1),\n",
    "            conv_dw(64,128,2),\n",
    "            conv_dw(128,128,1),\n",
    "            conv_dw(128,256,2),\n",
    "            conv_dw(256,256,1),\n",
    "            conv_dw(256,512,2),\n",
    "            conv_dw(512,512,1),\n",
    "            conv_dw(512,512,1),\n",
    "            conv_dw(512,512,1),\n",
    "            conv_dw(512,512,1),\n",
    "            conv_dw(512,512,1),\n",
    "            \n",
    "            conv_dw(512,1024,2),\n",
    "            conv_dw(1024,1024,1),\n",
    "            \n",
    "            nn.AvgPool2d(kernel_size=7,stride=1)\n",
    "        )\n",
    "        \n",
    "        self.classifier=nn.Linear(1024,num_class)\n",
    "        \n",
    "    def forward(self,x):\n",
    "        x=self.feature(x)\n",
    "        x=x.view(x.size(0),-1)\n",
    "        x=self.classifier(x)\n",
    "        \n",
    "        return x"
   ]
  },
  {
   "cell_type": "code",
   "execution_count": 24,
   "metadata": {},
   "outputs": [
    {
     "name": "stdout",
     "output_type": "stream",
     "text": [
      "torch.Size([1, 1000])\n"
     ]
    }
   ],
   "source": [
    "net=MobileNet(1000)\n",
    "\n",
    "out=net(input_image)\n",
    "print(out.shape)"
   ]
  },
  {
   "cell_type": "code",
   "execution_count": 25,
   "metadata": {},
   "outputs": [
    {
     "name": "stderr",
     "output_type": "stream",
     "text": [
      "F:\\anaconda3\\lib\\site-packages\\torch\\serialization.py:256: UserWarning: Couldn't retrieve source code for container of type MobileNet. It won't be checked for correctness upon loading.\n",
      "  \"type \" + obj.__name__ + \". It won't be checked \"\n"
     ]
    }
   ],
   "source": [
    "torch.save(net,'Mobilenet.pth')"
   ]
  },
  {
   "cell_type": "code",
   "execution_count": null,
   "metadata": {},
   "outputs": [],
   "source": []
  }
 ],
 "metadata": {
  "kernelspec": {
   "display_name": "Python 3",
   "language": "python",
   "name": "python3"
  },
  "language_info": {
   "codemirror_mode": {
    "name": "ipython",
    "version": 3
   },
   "file_extension": ".py",
   "mimetype": "text/x-python",
   "name": "python",
   "nbconvert_exporter": "python",
   "pygments_lexer": "ipython3",
   "version": "3.7.6"
  }
 },
 "nbformat": 4,
 "nbformat_minor": 4
}
