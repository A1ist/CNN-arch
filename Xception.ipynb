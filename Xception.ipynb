{
 "cells": [
  {
   "cell_type": "code",
   "execution_count": 1,
   "metadata": {},
   "outputs": [],
   "source": [
    "import torch\n",
    "import torch.nn as nn\n",
    "import torch.nn.functional as F\n"
   ]
  },
  {
   "cell_type": "code",
   "execution_count": 4,
   "metadata": {},
   "outputs": [],
   "source": [
    "input_image=torch.rand(1,3,299,299)"
   ]
  },
  {
   "cell_type": "markdown",
   "metadata": {},
   "source": [
    "https://github.com/tstandley/Xception-PyTorch/blob/master/xception.py"
   ]
  },
  {
   "cell_type": "code",
   "execution_count": 21,
   "metadata": {},
   "outputs": [],
   "source": [
    "class conv_bn(nn.Module):\n",
    "    def __init__(self,in_ch,out_ch,k=3,s=1):\n",
    "        super(conv_bn,self).__init__()\n",
    "        \n",
    "        self.conv1=nn.Conv2d(in_ch,out_ch,kernel_size=k,stride=s,bias=False)\n",
    "        self.bn=nn.BatchNorm2d(out_ch)\n",
    "        \n",
    "    def forward(self,x):\n",
    "        x=self.conv1(x)\n",
    "        x=self.bn(x)\n",
    "        return x\n",
    "        "
   ]
  },
  {
   "cell_type": "code",
   "execution_count": 27,
   "metadata": {},
   "outputs": [],
   "source": [
    "class sep_bn(nn.Module):\n",
    "    def __init__(self,in_ch,out_ch,s=1,p=0):\n",
    "        super(sep_bn,self).__init__()\n",
    "        \n",
    "        self.conv1=nn.Conv2d(in_ch,in_ch,kernel_size=3,stride=s,padding=p,dilation=1,groups=in_ch,bias=False)\n",
    "        self.bn=nn.BatchNorm2d(in_ch)\n",
    "        self.conv2= nn.Conv2d(in_ch,out_ch,kernel_size=1,stride=1,padding=0,dilation=1,groups=1,bias=False)\n",
    "        self.bn2=nn.BatchNorm2d(out_ch)\n",
    "        \n",
    "    def forward(self,x):\n",
    "        x=self.conv1(x)\n",
    "        x=self.bn(x)\n",
    "        x=self.conv2(x)\n",
    "        x=self.bn2(x)\n",
    "        return x"
   ]
  },
  {
   "cell_type": "markdown",
   "metadata": {},
   "source": [
    "![](entry_flow.png)"
   ]
  },
  {
   "cell_type": "code",
   "execution_count": 32,
   "metadata": {},
   "outputs": [],
   "source": [
    "class entry_flow(nn.Module):\n",
    "    def __init__(self):\n",
    "        super(entry_flow,self).__init__()\n",
    "        \n",
    "        self.conv_32=conv_bn(3,32,s=2)\n",
    "        self.conv_64=conv_bn(32,64)\n",
    "        \n",
    "        self.sc1=sep_bn(64,128,p=1)\n",
    "        self.sc2=sep_bn(128,128,p=1)\n",
    "        self.maxpool1=nn.MaxPool2d(kernel_size=3,stride=2,padding=1)\n",
    "        \n",
    "        self.skip_conv1=conv_bn(64,128,k=1,s=2)\n",
    "        \n",
    "        self.sc3=sep_bn(128,256,p=1)\n",
    "        self.sc4=sep_bn(256,256,p=1)\n",
    "        self.maxpool2=nn.MaxPool2d(kernel_size=3,stride=2,padding=1)\n",
    "        \n",
    "        self.skip_conv2=conv_bn(128,256,k=1,s=2)\n",
    "        \n",
    "        self.sc5=sep_bn(256,728,p=1)\n",
    "        self.sc6=sep_bn(728,728,p=1)\n",
    "        self.maxpool3=nn.MaxPool2d(kernel_size=3,stride=2,padding=1)\n",
    "        \n",
    "        self.skip_conv3=conv_bn(256,728,k=1,s=2)\n",
    "        \n",
    "    def forward(self,x):\n",
    "        x=self.conv_32(x)\n",
    "        x=F.relu(x)\n",
    "        x=self.conv_64(x)\n",
    "        tensor=F.relu(x)\n",
    "        \n",
    "        x=self.sc1(x)\n",
    "        x=F.relu(x)\n",
    "        x=self.sc2(x)\n",
    "        x=self.maxpool1(x)\n",
    "        print(x.shape)\n",
    "        tensor=self.skip_conv1(tensor)\n",
    "        print(tensor.shape)\n",
    "        x=tensor+x\n",
    "        x=F.relu(x)\n",
    "        \n",
    "        x=self.sc3(x)\n",
    "        x=F.relu(x)\n",
    "        x=self.sc4(x)\n",
    "        x=self.maxpool2(x)\n",
    "        \n",
    "        tensor=self.skip_conv2(tensor)\n",
    "        \n",
    "        x=tensor+x\n",
    "        x=F.relu(x)\n",
    "        \n",
    "        x=self.sc5(x)\n",
    "        x=F.relu(x)\n",
    "        x=self.sc6(x)\n",
    "        x=self.maxpool3(x)\n",
    "        \n",
    "        tensor=self.skip_conv3(tensor) \n",
    "        x=tensor+x\n",
    "        return x\n",
    "        "
   ]
  },
  {
   "cell_type": "code",
   "execution_count": 33,
   "metadata": {},
   "outputs": [
    {
     "name": "stdout",
     "output_type": "stream",
     "text": [
      "torch.Size([1, 128, 74, 74])\n",
      "torch.Size([1, 128, 74, 74])\n",
      "torch.Size([1, 728, 19, 19])\n"
     ]
    }
   ],
   "source": [
    "mo=entry_flow()\n",
    "x=torch.rand(1,3,299,299)\n",
    "out=mo(x)\n",
    "print(out.shape)"
   ]
  },
  {
   "cell_type": "markdown",
   "metadata": {},
   "source": [
    "![](middle_flow.png)"
   ]
  },
  {
   "cell_type": "code",
   "execution_count": 68,
   "metadata": {},
   "outputs": [],
   "source": [
    "class middle_flow(nn.Module):\n",
    "    def __init__(self):\n",
    "        super(middle_flow,self).__init__()\n",
    "        \n",
    "        layers=[]\n",
    "        \n",
    "        for _ in range(8):\n",
    "            layers.append(nn.ReLU(True))\n",
    "            layers.append(sep_bn(728,728,p=1))\n",
    "            layers.append(nn.ReLU(True))\n",
    "            layers.append(sep_bn(728,728,p=1))\n",
    "            layers.append(nn.ReLU(True))\n",
    "            layers.append(sep_bn(728,728,p=1))\n",
    "            \n",
    "        self.feature=nn.Sequential(*layers)\n",
    "    \n",
    "    def forward(self,x):\n",
    "#         print(self.feature[:6])\n",
    "        tensor=self.feature[:6](x)\n",
    "        x=tensor+x\n",
    "        tensor=self.feature[6:12](x)\n",
    "        x=tensor+x\n",
    "        tensor=self.feature[12:18](x)\n",
    "        x=tensor+x\n",
    "        tensor=self.feature[18:24](x)\n",
    "        x=tensor+x\n",
    "        tensor=self.feature[24:30](x)\n",
    "        x=tensor+x\n",
    "        tensor=self.feature[30:36](x)\n",
    "        x=tensor+x\n",
    "        tensor=self.feature[36:42](x)\n",
    "        x=tensor+x\n",
    "        tensor=self.feature[42:48](x)\n",
    "        x=tensor+x\n",
    "        return x"
   ]
  },
  {
   "cell_type": "code",
   "execution_count": 69,
   "metadata": {},
   "outputs": [
    {
     "name": "stdout",
     "output_type": "stream",
     "text": [
      "torch.Size([1, 128, 74, 74])\n",
      "torch.Size([1, 128, 74, 74])\n",
      "torch.Size([1, 728, 19, 19])\n"
     ]
    }
   ],
   "source": [
    "mo=entry_flow()\n",
    "x=torch.rand(1,3,299,299)\n",
    "out=mo(x)\n",
    "mid=middle_flow()\n",
    "out2=mid(out)\n",
    "print(out2.shape)"
   ]
  },
  {
   "cell_type": "markdown",
   "metadata": {},
   "source": [
    "![](exit_flow.png)"
   ]
  },
  {
   "cell_type": "code",
   "execution_count": 74,
   "metadata": {},
   "outputs": [],
   "source": [
    "class exit_flow(nn.Module):\n",
    "    def __init__(self):\n",
    "        super(exit_flow,self).__init__()\n",
    "        \n",
    "        self.sc1=sep_bn(728,728,p=1)\n",
    "        self.sc2=sep_bn(728,1024,p=1)\n",
    "        self.maxpool1=nn.MaxPool2d(kernel_size=3,stride=2,padding=1)\n",
    "        \n",
    "        self.skip_conv1=conv_bn(728,1024,k=1,s=2)\n",
    "        \n",
    "        self.sc3=sep_bn(1024,1536,p=1)\n",
    "        self.sc4=sep_bn(1536,2048,p=1)\n",
    "        self.fc=nn.Linear(2048,1000)\n",
    "        \n",
    "        \n",
    "    def forward(self,x):\n",
    "        x0=F.relu(x)\n",
    "        x=self.sc1(x0)\n",
    "        x=F.relu(x)\n",
    "        x=self.sc2(x)\n",
    "        x=self.maxpool1(x)\n",
    "        \n",
    "        tensor=self.skip_conv1(x0)\n",
    "        \n",
    "        x=tensor+x\n",
    "        \n",
    "        x=self.sc3(x)\n",
    "        x=F.relu(x)\n",
    "        x=self.sc4(x)\n",
    "        x=F.relu(x)\n",
    "        \n",
    "        x=F.adaptive_avg_pool2d(x,(1,1))\n",
    "        x=x.view(x.size(0),-1)\n",
    "        \n",
    "        x=self.fc(x)\n",
    "        \n",
    "        return x"
   ]
  },
  {
   "cell_type": "code",
   "execution_count": 75,
   "metadata": {},
   "outputs": [
    {
     "name": "stdout",
     "output_type": "stream",
     "text": [
      "torch.Size([1, 128, 74, 74])\n",
      "torch.Size([1, 128, 74, 74])\n",
      "torch.Size([1, 1000])\n"
     ]
    }
   ],
   "source": [
    "mo=entry_flow()\n",
    "x=torch.rand(1,3,299,299)\n",
    "out=mo(x)\n",
    "mid=middle_flow()\n",
    "out2=mid(out)\n",
    "\n",
    "end=exit_flow()\n",
    "\n",
    "out3=end(out2)\n",
    "print(out3.shape)"
   ]
  },
  {
   "cell_type": "code",
   "execution_count": null,
   "metadata": {},
   "outputs": [],
   "source": []
  }
 ],
 "metadata": {
  "kernelspec": {
   "display_name": "Python 3",
   "language": "python",
   "name": "python3"
  },
  "language_info": {
   "codemirror_mode": {
    "name": "ipython",
    "version": 3
   },
   "file_extension": ".py",
   "mimetype": "text/x-python",
   "name": "python",
   "nbconvert_exporter": "python",
   "pygments_lexer": "ipython3",
   "version": "3.7.6"
  }
 },
 "nbformat": 4,
 "nbformat_minor": 4
}
